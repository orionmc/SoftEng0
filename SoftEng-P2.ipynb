{
 "cells": [
  {
   "cell_type": "markdown",
   "metadata": {},
   "source": [
    "In this project we will generate a dataset with patient data Name / Age / Weight / Height. The weight and height are in foots and pounds. The task will be to convert the imperial measurements to metric."
   ]
  },
  {
   "cell_type": "code",
   "execution_count": 9,
   "metadata": {},
   "outputs": [
    {
     "name": "stdout",
     "output_type": "stream",
     "text": [
      "               Name  Age  Weight in pounds Height in foots and inches\n",
      "0    Chris Martinez   35               140                       5'9\"\n",
      "1       Sarah Davis   25               192                      4'10\"\n",
      "2       David Jones   54               230                      4'11\"\n",
      "3        Jane Jones   35               245                       5'2\"\n",
      "4     Alex Martinez   68               134                       3'3\"\n",
      "..              ...  ...               ...                        ...\n",
      "295   Michael Davis   48               229                       4'7\"\n",
      "296    Chris Miller   51               172                       4'3\"\n",
      "297   Michael Davis   67               178                       5'7\"\n",
      "298    Jane Johnson   38               173                       4'8\"\n",
      "299   Michael Smith   27               169                       3'2\"\n",
      "\n",
      "[300 rows x 4 columns]\n"
     ]
    }
   ],
   "source": [
    "import pandas as pd\n",
    "import random\n",
    "import re\n",
    "\n",
    "# Function to generate random names\n",
    "def generate_name():\n",
    "    first_names = [\"John\", \"Jane\", \"Alex\", \"Emily\", \"Chris\", \"Katie\", \"Michael\", \"Sarah\", \"David\", \"Laura\"]\n",
    "    last_names = [\"Smith\", \"Johnson\", \"Williams\", \"Brown\", \"Jones\", \"Garcia\", \"Miller\", \"Davis\", \"Martinez\", \"Taylor\"]\n",
    "    return f\"{random.choice(first_names)} {random.choice(last_names)}\"\n",
    "\n",
    "# Function to generate random height in feet and inches\n",
    "def generate_height():\n",
    "    feet = random.randint(3, 7)  # Generating height between 3 to 7 feet\n",
    "    inches = random.randint(0, 11)  # Generating inches between 0 to 11\n",
    "    return f\"{feet}'{inches}\\\"\"\n",
    "# Generate the data\n",
    "data = {\n",
    "    \"Name\": [generate_name() for _ in range(300)],\n",
    "    \"Age\": [random.randint(18, 70) for _ in range(300)],\n",
    "    \"Weight in pounds\": [random.randint(100, 250) for _ in range(300)],\n",
    "    \"Height in foots and inches\": [generate_height() for _ in range(300)],\n",
    "}\n",
    "# Create DataFrame\n",
    "df = pd.DataFrame(data)\n",
    "\n",
    "# # Save to CSV\n",
    "file_path = r'c:\\tmp\\random_people_data.csv'\n",
    "df.to_csv(file_path, index=False)\n",
    "file_path\n",
    "print(df)"
   ]
  },
  {
   "cell_type": "markdown",
   "metadata": {},
   "source": [
    "The conversion:"
   ]
  },
  {
   "cell_type": "code",
   "execution_count": 8,
   "metadata": {},
   "outputs": [
    {
     "name": "stdout",
     "output_type": "stream",
     "text": [
      "                 Name  Age  Weight in pounds Height in foots and inches  \\\n",
      "0      Michael Miller   49               147                       6'8\"   \n",
      "1       Alex Martinez   35               176                       7'7\"   \n",
      "2      Michael Garcia   18               103                       5'2\"   \n",
      "3       Michael Smith   34               163                       3'6\"   \n",
      "4         Chris Brown   28               145                       7'8\"   \n",
      "..                ...  ...               ...                        ...   \n",
      "295        John Davis   45               225                       3'7\"   \n",
      "296      Jane Johnson   28               205                       3'9\"   \n",
      "297    Michael Garcia   45               231                      7'11\"   \n",
      "298  Michael Williams   43               243                       3'9\"   \n",
      "299       Laura Jones   61               124                      3'10\"   \n",
      "\n",
      "     Weight in Kilograms  Height in Centimeters  \n",
      "0              66.678024                 203.20  \n",
      "1              79.832192                 231.14  \n",
      "2              46.719976                 157.48  \n",
      "3              73.935496                 106.68  \n",
      "4              65.770840                 233.68  \n",
      "..                   ...                    ...  \n",
      "295           102.058200                 109.22  \n",
      "296            92.986360                 114.30  \n",
      "297           104.779752                 241.30  \n",
      "298           110.222856                 114.30  \n",
      "299            56.245408                 116.84  \n",
      "\n",
      "[300 rows x 6 columns]\n"
     ]
    }
   ],
   "source": [
    "def height_to_cm(height):\n",
    "    try:\n",
    "        feet, inches = height.split(\"'\")\n",
    "        feet = int(feet)\n",
    "        inches = int(inches.replace('\"', '').strip())\n",
    "        return round(feet * 30.48 + inches * 2.54, 2)\n",
    "    except Exception as e:\n",
    "        return None  # in case of any error\n",
    "\n",
    "# Apply the conversion function\n",
    "df['Height in Centimeters'] = df['Height in foots and inches'].apply(height_to_cm)\n",
    "\n",
    "# Drop the original weight and height columns\n",
    "df_new = df.drop(columns=['Weight in pounds', 'Height in foots and inches'])\n",
    "\n",
    "# # Save the new dataframe to a CSV file\n",
    "# new_file_path = 'location/to/save/the/file'\n",
    "# df_new.to_csv(new_file_path, index=False)\n",
    "# new_file_path\n",
    "\n",
    "print(df)"
   ]
  }
 ],
 "metadata": {
  "kernelspec": {
   "display_name": "Python 3",
   "language": "python",
   "name": "python3"
  },
  "language_info": {
   "codemirror_mode": {
    "name": "ipython",
    "version": 3
   },
   "file_extension": ".py",
   "mimetype": "text/x-python",
   "name": "python",
   "nbconvert_exporter": "python",
   "pygments_lexer": "ipython3",
   "version": "3.12.5"
  }
 },
 "nbformat": 4,
 "nbformat_minor": 2
}
